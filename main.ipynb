{
 "cells": [
  {
   "attachments": {},
   "cell_type": "markdown",
   "metadata": {},
   "source": [
    "# Kamufalu 2.0 🏘️🪵🐖"
   ]
  },
  {
   "attachments": {},
   "cell_type": "markdown",
   "metadata": {},
   "source": [
    "### Importing the Corpus"
   ]
  },
  {
   "cell_type": "code",
   "execution_count": 7,
   "metadata": {},
   "outputs": [
    {
     "name": "stdout",
     "output_type": "stream",
     "text": [
      "['Aba', 'Abádszalók', 'Abaliget', 'Abasár', 'Abaújalpár', 'Abaújkér', 'Abaújlak', 'Abaújszántó', 'Abaújszolnok', 'Abaújvár', 'Abda', 'Abod', 'Abony', 'Ábrahámhegy', 'Ács', 'Acsa', 'Acsád', 'Acsalag', 'Ácsteszér', 'Adács', 'Ádánd', 'Adásztevel', 'Adony', 'Adorjánháza', 'Adorjás', 'Ág', 'Ágasegyháza', 'Ágfalva', 'Aggtelek', 'Agyagosszergény', 'Ajak', 'Ajka', 'Aka', 'Akasztó', 'Alacska', 'Alap', 'Alattyán', 'Albertirsa', 'Alcsútdoboz', 'Aldebrő', 'Algyő', 'Alibánfa', 'Almamellék', 'Almásfüzitő', 'Almásháza', 'Almáskamarás', 'Almáskeresztúr', 'Álmosd', 'Alsóberecki', 'Alsóbogát', 'Alsódobsza', 'Alsógagy', 'Alsómocsolád', 'Alsónána', 'Alsónémedi', 'Alsónemesapáti', 'Alsónyék', 'Alsóörs', 'Alsópáhok', 'Alsópetény', 'Alsórajk', 'Alsóregmec', 'Alsószenterzsébet', 'Alsószentiván', 'Alsószentmárton', 'Alsószölnök', 'Alsószuha', 'Alsótelekes', 'Alsótold', 'Alsóújlak', 'Alsóvadász', 'Alsózsolca', 'Ambrózfalva', 'Anarcs', 'Andocs', 'Andornaktálya', 'Andrásfa', 'Annavölgy', 'Apagy', 'Apaj', 'Aparhant', 'Apácatorna', 'Apátfalva', 'Apátistvánfalva', 'Apátvarasd', 'Apc', 'Áporka', 'Apostag', 'Aranyosapáti', 'Aranyosgadány', 'Arka', 'Arló', 'Arnót', 'Ároktő', 'Árpádhalom', 'Árpás', 'Ártánd', 'Ásotthalom', 'Ásványráró', 'Aszaló', 'Ászár', 'Aszód', 'Aszófő', 'Áta', 'Átány', 'Atkár', 'Attala', 'Babarc', 'Babarcszőlős', 'Babócsa', 'Bábolna', 'Bábonymegyer', 'Babosdöbréte', 'Babót', 'Bácsalmás', 'Bácsbokod', 'Bácsborsód', 'Bácsszentgyörgy', 'Bácsszőlős', 'Badacsonytomaj', 'Badacsonytördemic', 'Bag', 'Bagamér', 'Baglad', 'Bagod', 'Bágyogszovát', 'Baj', 'Baja', 'Bajánsenye', 'Bajna', 'Bajót', 'Bak', 'Bakháza', 'Bakóca', 'Bakonszeg', 'Bakonya', 'Bakonybánk', 'Bakonybél', 'Bakonycsernye', 'Bakonygyirót', 'Bakonyjákó', 'Bakonykoppány', 'Bakonykúti', 'Bakonynána', 'Bakonyoszlop', 'Bakonypéterd', 'Bakonypölöske', 'Bakonyság', 'Bakonysárkány', 'Bakonyszentiván', 'Bakonyszentkirály', 'Bakonyszentlászló', 'Bakonyszombathely', 'Bakonyszücs', 'Bakonytamási', 'Baks', 'Baksa', 'Baktakék', 'Baktalórántháza', 'Baktüttös', 'Balajt', 'Balassagyarmat', 'Balástya', 'Balaton', 'Balatonakali', 'Balatonalmádi', 'Balatonberény', 'Balatonboglár', 'Balatoncsicsó', 'Balatonederics', 'Balatonendréd', 'Balatonfenyves', 'Balatonfőkajár', 'Balatonföldvár', 'Balatonfüred', 'Balatonfűzfő', 'Balatongyörök', 'Balatonhenye', 'Balatonkenese', 'Balatonkeresztúr', 'Balatonlelle', 'Balatonmagyaród', 'Balatonmáriafürdő', 'Balatonőszöd', 'Balatonrendes', 'Balatonszabadi', 'Balatonszárszó', 'Balatonszemes', 'Balatonszentgyörgy', 'Balatonszepezd', 'Balatonszőlős', 'Balatonudvari', 'Balatonújlak', 'Balatonvilágos', 'Balinka', 'Balkány', 'Ballószög', 'Balmazújváros', 'Balogunyom', 'Balotaszállás', 'Balsa', 'Bálványos', 'Bana', 'Bánd', 'Bánfa', 'Bánhorváti', 'Bánk', 'Bánokszentgyörgy', 'Bánréve', 'Bár', 'Barabás', 'Baracs', 'Baracska', 'Báránd', 'Baranyahídvég', 'Baranyajenő', 'Baranyaszentgyörgy', 'Barbacs', 'Barcs', 'Bárdudvarnok', 'Barlahida', 'Bárna', 'Barnag', 'Bársonyos', 'Basal', 'Baskó', 'Báta', 'Bátaapáti', 'Bátaszék', 'Baté', 'Bátmonostor', 'Bátonyterenye', 'Bátor', 'Bátorliget', 'Battonya', 'Bátya', 'Batyk', 'Bázakerettye', 'Bazsi', 'Béb', 'Becsehely', 'Becske', 'Becskeháza', 'Becsvölgye', 'Bedegkér', 'Bedő', 'Bejcgyertyános', 'Békás', 'Bekecs', 'Békés', 'Békéscsaba', 'Békéssámson', 'Békésszentandrás', 'Bekölce', 'Bélapátfalva', 'Bélavár', 'Belecska', 'Beled', 'Beleg', 'Belezna', 'Bélmegyer', 'Beloiannisz', 'Belsősárd', 'Belvárdgyula', 'Benk', 'Bénye', 'Bér', 'Bérbaltavár', 'Bercel', 'Beregdaróc', 'Beregsurány', 'Berekböszörmény', 'Berekfürdő', 'Beremend', 'Berente', 'Beret', 'Berettyóújfalu', 'Berhida', 'Berkenye', 'Berkesd', 'Berkesz', 'Bernecebaráti', 'Berzék', 'Berzence', 'Besence', 'Besenyőd', 'Besenyőtelek', 'Besenyszög', 'Besnyő', 'Beszterec', 'Bezedek', 'Bezenye', 'Bezeréd', 'Bezi', 'Biatorbágy', 'Bicsérd', 'Bicske', 'Bihardancsháza', 'Biharkeresztes', 'Biharnagybajom', 'Bihartorda', 'Biharugra', 'Bikács', 'Bikal', 'Biri', 'Birján', 'Bisse', 'Boba', 'Bocfölde', 'Boconád', 'Bócsa', 'Bocska', 'Bocskaikert', 'Boda', 'Bodajk', 'Bodmér', 'Bodolyabér', 'Bodonhely', 'Bodony', 'Bodorfa', 'Bodrog', 'Bodroghalom', 'Bodrogkeresztúr', 'Bodrogkisfalud', 'Bodrogolaszi', 'Bódvalenke', 'Bódvarákó', 'Bódvaszilas', 'Bogács', 'Bogád', 'Bogádmindszent', 'Bogdása', 'Bogyiszló', 'Bogyoszló', 'Bojt', 'Bókaháza', 'Bokod', 'Bokor', 'Boldog', 'Boldogasszonyfa', 'Boldogkőújfalu', 'Boldogkőváralja', 'Boldva', 'Bolhás', 'Bolhó', 'Bóly', 'Boncodfölde', 'Bonyhád', 'Bonyhádvarasd', 'Bonnya', 'Bordány', 'Borgáta', 'Borjád', 'Borota', 'Borsfa', 'Borsodbóta', 'Borsodgeszt', 'Borsodivánka', 'Borsodnádasd', 'Borsodszentgyörgy', 'Borsodszirák', 'Borsosberény', 'Borszörcsök', 'Borzavár', 'Bosta', 'Botpalád', 'Botykapeterd', 'Bozzai', 'Bozsok', 'Bózsva', 'Bő', 'Bőcs', 'Böde', 'Bödeháza', 'Bögöt', 'Bögöte', 'Böhönye', 'Bököny', 'Bölcske', 'Bőny', 'Börcs', 'Börzönce', 'Bősárkány', 'Bőszénfa', 'Bucsa', 'Bucsu', 'Búcsúszentlászló', 'Bucsuta', 'Budajenő', 'Budakalász', 'Budakeszi', 'Budaörs', 'Budapest', 'Bugac', 'Bugacpusztaháza', 'Bugyi', 'Buj', 'Buják', 'Buzsák', 'Bük', 'Bükkábrány', 'Bükkaranyos', 'Bükkmogyorósd', 'Bükkösd', 'Bükkszék', 'Bükkszenterzsébet', 'Bükkszentkereszt', 'Bükkszentmárton', 'Bükkzsérc', 'Bürüs', 'Büssü', 'Büttös', 'Cák', 'Cakóháza', 'Cece', 'Cégénydányád', 'Cegléd', 'Ceglédbercel', 'Celldömölk', 'Cered', 'Chernelházadamonya', 'Cibakháza', 'Cigánd', 'Cikó', 'Cirák', 'Cún', 'Csabacsűd', 'Csabaszabadi', 'Csabdi', 'Csabrendek', 'Csáfordjánosfa', 'Csaholc', 'Csajág', 'Csákány', 'Csákánydoroszló', 'Csákberény', 'Csákvár', 'Csanádalberti', 'Csanádapáca', 'Csanádpalota', 'Csánig', 'Csány', 'Csányoszró', 'Csanytelek', 'Csapi', 'Csapod', 'Csárdaszállás', 'Csarnóta', 'Csaroda', 'Császár', 'Császártöltés', 'Császló', 'Csátalja', 'Csatár', 'Csataszög', 'Csatka', 'Csávoly', 'Csebény', 'Csécse', 'Csegöld', 'Csehbánya', 'Csehi', 'Csehimindszent', 'Csém', 'Csemő', 'Csempeszkopács', 'Csengele', 'Csenger', 'Csengersima', 'Csengerújfalu', 'Csengőd', 'Csénye', 'Csenyéte', 'Csép', 'Csépa', 'Csepreg', 'Csér', 'Cserdi', 'Cserénfa', 'Cserépfalu', 'Cserépváralja', 'Cserháthaláp', 'Cserhátsurány', 'Cserhátszentiván', 'Cserkeszőlő', 'Cserkút', 'Csernely', 'Cserszegtomaj', 'Csertalakos', 'Csertő', 'Csesznek', 'Csesztreg', 'Csesztve', 'Csetény', 'Csévharaszt', 'Csibrák', 'Csikéria', 'Csikóstőttős', 'Csikvánd', 'Csincse', 'Csipkerek', 'Csitár', 'Csobád', 'Csobaj', 'Csobánka', 'Csókakő', 'Csokonyavisonta', 'Csokvaomány', 'Csolnok', 'Csólyospálos', 'Csoma', 'Csomád', 'Csombárd', 'Csongrád', 'Csonkahegyhát', 'Csonkamindszent', 'Csopak', 'Csór', 'Csorna', 'Csorvás', 'Csót', 'Csöde', 'Csögle', 'Csökmő', 'Csököly', 'Csömend', 'Csömödér', 'Csömör', 'Csönge', 'Csörnyeföld', 'Csörög', 'Csörötnek', 'Csősz', 'Csővár', 'Csurgó', 'Csurgónagymarton', 'Dabas', 'Dabronc', 'Dabrony', 'Dad', 'Dág', 'Dáka', 'Dalmand', 'Damak', 'Dámóc', 'Dánszentmiklós', 'Dány', 'Daraboshegy', 'Darány', 'Darnó', 'Darnózseli', 'Daruszentmiklós', 'Darvas', 'Dávod', 'Debercsény', 'Debrecen', 'Debréte', 'Decs', 'Dédestapolcsány', 'Dég', 'Dejtár', 'Délegyháza', 'Demecser', 'Demjén', 'Dencsháza', 'Dénesfa', 'Derecske', 'Derekegyház', 'Deszk', 'Detek', 'Detk', 'Dévaványa', 'Devecser', 'Dinnyeberki', 'Diósberény', 'Diósd', 'Diósjenő', 'Dióskál', 'Diósviszló', 'Doba', 'Doboz', 'Dobri', 'Dobronhegy', 'Dóc', 'Domaháza', 'Domaszék', 'Dombegyház', 'Dombiratos', 'Dombóvár', 'Dombrád', 'Domony', 'Domoszló', 'Dormánd', 'Dorog', 'Dorogháza', 'Dozmat', 'Döbörhegy', 'Döbröce', 'Döbrököz', 'Döbrönte', 'Döge', 'Dömös', 'Dömsöd', 'Dör', 'Dörgicse', 'Döröske', 'Dötk', 'Dövény', 'Drágszél', 'Drávacsehi', 'Drávacsepely', 'Drávafok', 'Drávagárdony', 'Drávaiványi', 'Drávakeresztúr', 'Drávapalkonya', 'Drávapiski', 'Drávaszabolcs', 'Drávaszerdahely', 'Drávasztára', 'Drávatamási', 'Drégelypalánk', 'Dubicsány', 'Dudar', 'Duka', 'Dunaalmás', 'Dunabogdány', 'Dunaegyháza', 'Dunafalva', 'Dunaföldvár', 'Dunaharaszti', 'Dunakeszi', 'Dunakiliti', 'Dunapataj', 'Dunaremete', 'Dunaszeg', 'Dunaszekcső', 'Dunaszentbenedek', 'Dunaszentgyörgy', 'Dunaszentmiklós', 'Dunaszentpál', 'Dunasziget', 'Dunatetétlen', 'Dunaújváros', 'Dunavarsány', 'Dunavecse', 'Dusnok', 'Dúzs', 'Ebergőc', 'Ebes', 'Écs', 'Ecséd', 'Ecseg', 'Ecsegfalva', 'Ecseny', 'Ecser', 'Edde', 'Edelény', 'Edve', 'Eger', 'Egerág', 'Egeralja', 'Egeraracsa', 'Egerbakta', 'Egerbocs', 'Egercsehi', 'Egerfarmos', 'Egerlövő', 'Egerszalók', 'Egerszólát', 'Égerszög', 'Egervár', 'Egervölgy', 'Egyed', 'Egyek', 'Egyházasdengeleg', 'Egyházasfalu', 'Egyházasgerge', 'Egyházasharaszti', 'Egyházashetye', 'Egyházashollós', 'Egyházaskesző', 'Egyházaskozár', 'Egyházasrádóc', 'Elek', 'Ellend', 'Előszállás', 'Emőd', 'Encs', 'Encsencs', 'Endrefalva', 'Endrőc', 'Enese', 'Enying', 'Eperjes', 'Eperjeske', 'Eplény', 'Epöl', 'Ercsi', 'Érd', 'Erdőbénye', 'Erdőhorváti', 'Erdőkertes', 'Erdőkövesd', 'Erdőkürt', 'Erdősmárok', 'Erdősmecske', 'Erdőtarcsa', 'Erdőtelek', 'Erk', 'Érpatak', 'Érsekcsanád', 'Érsekhalma', 'Érsekvadkert', 'Értény', 'Erzsébet', 'Esztár', 'Eszteregnye', 'Esztergályhorváti', 'Esztergom', 'Ete', 'Etes', 'Etyek', 'Fábiánháza', 'Fábiánsebestyén', 'Fácánkert', 'Fadd', 'Fáj', 'Fajsz', 'Fancsal', 'Farád', 'Farkasgyepű', 'Farkaslyuk', 'Farmos', 'Fazekasboda', 'Fedémes', 'Fegyvernek', 'Fehérgyarmat', 'Fehértó', 'Fehérvárcsurgó', 'Feked', 'Feketeerdő', 'Felcsút', 'Feldebrő', 'Felgyő', 'Felpéc', 'Felsőberecki', 'Felsőcsatár', 'Felsődobsza', 'Felsőegerszeg', 'Felsőgagy', 'Felsőjánosfa', 'Felsőkelecsény', 'Felsőlajos', 'Felsőmarác', 'Felsőmocsolád', 'Felsőnána', 'Felsőnyárád', 'Felsőnyék', 'Felsőörs', 'Felsőpáhok', 'Felsőpakony', 'Felsőpetény', 'Felsőrajk', 'Felsőregmec', 'Felsőszenterzsébet', 'Felsőszentiván', 'Felsőszentmárton', 'Felsőszölnök', 'Felsőtárkány', 'Felsőtelekes', 'Felsőtold', 'Felsővadász', 'Felsőzsolca', 'Fényeslitke', 'Fenyőfő', 'Ferencszállás', 'Fertőboz', 'Fertőd', 'Fertőendréd', 'Fertőhomok', 'Fertőrákos', 'Fertőszentmiklós', 'Fertőszéplak', 'Fiad', 'Filkeháza', 'Fityeház', 'Foktő', 'Folyás', 'Fonó', 'Fony', 'Fonyód', 'Forráskút', 'Forró', 'Fót', 'Földeák', 'Földes', 'Főnyed', 'Fulókércs', 'Furta', 'Füle', 'Fülesd', 'Fülöp', 'Fülöpháza', 'Fülöpjakab', 'Fülöpszállás', 'Fülpösdaróc', 'Fürged', 'Füzér', 'Füzérkajata', 'Füzérkomlós', 'Füzérradvány', 'Füzesabony', 'Füzesgyarmat', 'Fűzvölgy', 'Gáborján', 'Gáborjánháza', 'Gacsály', 'Gadács', 'Gadány', 'Gadna', 'Gádoros', 'Gagyapáti', 'Gagybátor', 'Gagyvendégi', 'Galambok', 'Galgaguta', 'Galgagyörk', 'Galgahévíz', 'Galgamácsa', 'Gálosfa', 'Galvács', 'Gamás', 'Ganna', 'Gánt', 'Gara', 'Garáb', 'Garabonc', 'Garadna', 'Garbolc', 'Gárdony', 'Garé', 'Gasztony', 'Gátér', 'Gávavencsellő', 'Géberjén', 'Gecse', 'Géderlak', 'Gégény', 'Gelej', 'Gelénes', 'Gellénháza', 'Gelse', 'Gelsesziget', 'Gemzse', 'Gencsapáti', 'Gérce', 'Gerde', 'Gerendás', 'Gerényes', 'Geresdlak', 'Gerjen', 'Gersekarát', 'Geszt', 'Gesztely', 'Geszteréd', 'Gétye', 'Gibárt', 'Gic', 'Gige', 'Gilvánfa', 'Girincs', 'Gógánfa', 'Golop', 'Gomba', 'Gombosszeg', 'Gór', 'Gordisa', 'Gosztola', 'Göd', 'Gödöllő', 'Gödre', 'Gölle', 'Gömörszőlős', 'Gönc', 'Göncruszka', 'Gönyű', 'Görbeháza', 'Görcsöny', 'Görcsönydoboka', 'Görgeteg', 'Gősfa', 'Grábóc', 'Gulács', 'Gutorfölde', 'Gyál', 'Gyalóka', 'Gyanógeregye', 'Gyarmat', 'Gyékényes', 'Gyenesdiás', 'Gyepükaján', 'Gyermely', 'Gyód', 'Gyomaendrőd', 'Gyóró', 'Gyömöre', 'Gyömrő', 'Gyöngyfa', 'Gyöngyös', 'Gyöngyösfalu', 'Gyöngyöshalász', 'Gyöngyösmellék', 'Gyöngyösoroszi', 'Gyöngyöspata', 'Gyöngyössolymos', 'Gyöngyöstarján', 'Gyönk', 'Győr', 'Győrasszonyfa', 'Györe', 'Györgytarló', 'Györköny', 'Győrladamér', 'Győröcske', 'Győrság', 'Győrsövényház', 'Győrszemere', 'Győrtelek', 'Győrújbarát', 'Győrújfalu', 'Győrvár', 'Győrzámoly', 'Gyugy', 'Gyula', 'Gyulaháza', 'Gyulaj', 'Gyulakeszi', 'Gyúró', 'Gyügye', 'Gyüre', 'Gyűrűs', 'Hács', 'Hagyárosbörönd', 'Hahót', 'Hajdúbagos', 'Hajdúböszörmény', 'Hajdúdorog', 'Hajdúhadház', 'Hajdúnánás', 'Hajdúsámson', 'Hajdúszoboszló', 'Hajdúszovát', 'Hajmás', 'Hajmáskér', 'Hajós', 'Halastó', 'Halászi', 'Halásztelek', 'Halimba', 'Halmaj', 'Halmajugra', 'Halogy', 'Hangács', 'Hangony', 'Hantos', 'Harasztifalu', 'Harc', 'Harka', 'Harkakötöny', 'Harkány', 'Háromfa', 'Háromhuta', 'Harsány', 'Hárskút', 'Harta', 'Hásságy', 'Hatvan', 'Hédervár', 'Hedrehely', 'Hegyesd', 'Hegyeshalom', 'Hegyfalu', 'Hegyháthodász', 'Hegyhátmaróc', 'Hegyhátsál', 'Hegyhátszentjakab', 'Hegyhátszentmárton', 'Hegyhátszentpéter', 'Hegykő', 'Hegymagas', 'Hegymeg', 'Hegyszentmárton', 'Héhalom', 'Hejce', 'Hejőbába', 'Hejőkeresztúr', 'Hejőkürt', 'Hejőpapi', 'Hejőszalonta', 'Helesfa', 'Helvécia', 'Hencida', 'Hencse', 'Herceghalom', 'Hercegkút', 'Hercegszántó', 'Heréd', 'Héreg', 'Herencsény', 'Herend', 'Heresznye', 'Hermánszeg', 'Hernád', 'Hernádbűd', 'Hernádcéce', 'Hernádkak', 'Hernádkércs', 'Hernádnémeti', 'Hernádpetri', 'Hernádszentandrás', 'Hernádszurdok', 'Hernádvécse', 'Hernyék', 'Hét', 'Hetefejércse', 'Hetes', 'Hetvehely', 'Hetyefő', 'Heves', 'Hevesaranyos', 'Hevesvezekény', 'Hévíz', 'Hévízgyörk', 'Hidas', 'Hidasnémeti', 'Hidegkút', 'Hidegség', 'Hidvégardó', 'Himesháza', 'Himod', 'Hirics', 'Hobol', 'Hodász', 'Hódmezővásárhely', 'Hollád', 'Hollóháza', 'Hollókő', 'Homokbödöge', 'Homokkomárom', 'Homokmégy', 'Homokszentgyörgy', 'Homorúd', 'Homrogd', 'Hont', 'Horpács', 'Hort', 'Hortobágy', 'Horváthertelend', 'Horvátlövő', 'Horvátzsidány', 'Hosszúhetény', 'Hosszúpályi', 'Hosszúpereszteg', 'Hosszúvíz', 'Hosszúvölgy', 'Hosztót', 'Hottó', 'Hőgyész', 'Hövej', 'Hugyag', 'Hunya', 'Hunyadfalva', 'Husztót', 'Ibafa', 'Iborfia', 'Ibrány', 'Igal', 'Igar', 'Igrici', 'Iharos', 'Iharosberény', 'Ikervár', 'Iklad', 'Iklanberény', 'Iklódbördőce', 'Ikrény', 'Iliny', 'Ilk', 'Illocska', 'Imola', 'Imrehegy', 'Ináncs', 'Inárcs', 'Inke', 'Ipacsfa', 'Ipolydamásd', 'Ipolyszög', 'Ipolytarnóc', 'Ipolytölgyes', 'Ipolyvece', 'Iregszemcse', 'Irota', 'Isaszeg', 'Ispánk', 'Istenmezeje', 'Istvándi', 'Iszkaszentgyörgy', 'Iszkáz', 'Isztimér', 'Ivád', 'Iván', 'Ivánbattyán', 'Ivánc', 'Iváncsa', 'Ivándárda', 'Izmény', 'Izsák', 'Izsófalva', 'Jágónak', 'Ják', 'Jakabszállás', 'Jákfa', 'Jákfalva', 'Jákó', 'Jánd', 'Jánkmajtis', 'Jánoshalma', 'Jánosháza', 'Jánoshida', 'Jánossomorja', 'Járdánháza', 'Jármi', 'Jásd', 'Jászágó', 'Jászalsószentgyörgy', 'Jászapáti', 'Jászárokszállás', 'Jászberény', 'Jászboldogháza', 'Jászdózsa', 'Jászfelsőszentgyörgy', 'Jászfényszaru', 'Jászivány', 'Jászjákóhalma', 'Jászkarajenő', 'Jászkisér', 'Jászladány', 'Jászszentandrás', 'Jászszentlászló', 'Jásztelek', 'Jéke', 'Jenő', 'Jobaháza', 'Jobbágyi', 'Jósvafő', 'Juta', 'Kaba', 'Kacorlak', 'Kács', 'Kacsóta', 'Kadarkút', 'Kajárpéc', 'Kajászó', 'Kajdacs', 'Kakasd', 'Kákics', 'Kakucs', 'Kál', 'Kalaznó', 'Káld', 'Kálló', 'Kallósd', 'Kállósemjén', 'Kálmáncsa', 'Kálmánháza', 'Kálócfa', 'Kalocsa', 'Káloz', 'Kám', 'Kamond', 'Kamut', 'Kánó', 'Kántorjánosi', 'Kány', 'Kánya', 'Kányavár', 'Kapolcs', 'Kápolna', 'Kápolnásnyék', 'Kapoly', 'Kaposfő', 'Kaposgyarmat', 'Kaposhomok', 'Kaposkeresztúr', 'Kaposmérő', 'Kapospula', 'Kaposújlak', 'Kaposvár', 'Kaposszekcső', 'Kaposszerdahely', 'Káptalanfa', 'Káptalantóti', 'Kapuvár', 'Kára', 'Karácsond', 'Karád', 'Karakó', 'Karakószörcsök', 'Karancsalja', 'Karancsberény', 'Karancskeszi', 'Karancslapujtő', 'Karancsság', 'Kárász', 'Karcag', 'Karcsa', 'Kardos', 'Kardoskút', 'Karmacs', 'Károlyháza', 'Karos', 'Kartal', 'Kásád', 'Kaskantyú', 'Kastélyosdombó', 'Kaszaper', 'Kaszó', 'Katádfa', 'Katafa', 'Kátoly', 'Katymár', 'Káva', 'Kávás', 'Kazár', 'Kazincbarcika', 'Kázsmárk', 'Kazsok', 'Kecel', 'Kecskéd', 'Kecskemét', 'Kehidakustány', 'Kék', 'Kékcse', 'Kéked', 'Kékesd', 'Kékkút', 'Kelebia', 'Keléd', 'Kelemér', 'Kéleshalom', 'Kelevíz', 'Kemecse', 'Kemence', 'Kemendollár', 'Kemeneshőgyész', 'Kemeneskápolna', 'Kemenesmagasi', 'Kemenesmihályfa', 'Kemenespálfa', 'Kemenessömjén', 'Kemenesszentmárton', 'Kemenesszentpéter', 'Keménfa', 'Kémes', 'Kemestaródfa', 'Kemse', 'Kenderes', 'Kenéz', 'Kenézlő', 'Kengyel', 'Kenyeri', 'Kercaszomor', 'Kercseliget', 'Kerecsend', 'Kerecseny', 'Kerekegyháza', 'Kerekharaszt', 'Kereki', 'Kerékteleki', 'Kerepes', 'Keresztéte', 'Kerkabarabás', 'Kerkafalva', 'Kerkakutas', 'Kerkáskápolna', 'Kerkaszentkirály', 'Kerkateskánd', 'Kérsemjén', 'Kerta', 'Kertészsziget', 'Keszeg', 'Kesznyéten', 'Keszőhidegkút', 'Keszthely', 'Kesztölc', 'Keszü', 'Kétbodony', 'Kétegyháza', 'Kéthely', 'Kétpó', 'Kétsoprony', 'Kétújfalu', 'Kétvölgy', 'Kéty', 'Kevermes', 'Kilimán', 'Kimle', 'Kincsesbánya', 'Királd', 'Királyegyháza', 'Királyhegyes', 'Királyszentistván', 'Kisapáti', 'Kisapostag', 'Kisar', 'Kisasszond', 'Kisasszonyfa', 'Kisbabot', 'Kisbágyon', 'Kisbajcs', 'Kisbajom', 'Kisbárapáti', 'Kisbárkány', 'Kisbér', 'Kisberény', 'Kisberzseny', 'Kisbeszterce', 'Kisbodak', 'Kisbucsa', 'Kisbudmér', 'Kiscsécs', 'Kiscsehi', 'Kiscsősz', 'Kisdér', 'Kisdobsza', 'Kisdombegyház', 'Kisdorog', 'Kisecset', 'Kisfalud', 'Kisfüzes', 'Kisgörbő', 'Kisgyalán', 'Kisgyőr', 'Kishajmás', 'Kisharsány', 'Kishartyán', 'Kisherend', 'Kishódos', 'Kishuta', 'Kisigmánd', 'Kisjakabfalva', 'Kiskassa', 'Kiskinizs', 'Kiskorpád', 'Kisköre', 'Kiskőrös', 'Kiskunfélegyháza', 'Kiskunhalas', 'Kiskunlacháza', 'Kiskunmajsa', 'Kiskutas', 'Kisláng', 'Kisléta', 'Kislippó', 'Kislőd', 'Kismányok', 'Kismarja', 'Kismaros', 'Kisnamény', 'Kisnána', 'Kisnémedi', 'Kisnyárád', 'Kisoroszi', 'Kispalád', 'Kispáli', 'Kispirit', 'Kisrákos', 'Kisrécse', 'Kisrozvágy', 'Kissikátor', 'Kissomlyó', 'Kisszállás', 'Kisszékely', 'Kisszekeres', 'Kisszentmárton', 'Kissziget', 'Kisszőlős', 'Kistamási', 'Kistapolca', 'Kistarcsa', 'Kistelek', 'Kistokaj', 'Kistolmács', 'Kistormás', 'Kistótfalu', 'Kisújszállás', 'Kisunyom', 'Kisvárda', 'Kisvarsány', 'Kisvásárhely', 'Kisvaszar', 'Kisvejke', 'Kiszombor', 'Kiszsidány', 'Klárafalva', 'Kocs', 'Kocsér', 'Kocsola', 'Kocsord', 'Kóka', 'Kokad', 'Kolontár', 'Komádi', 'Komárom', 'Komjáti', 'Komló', 'Komlódtótfalu', 'Komlósd', 'Komlóska', 'Komoró', 'Kompolt', 'Kondó', 'Kondorfa', 'Kondoros', 'Kóny', 'Konyár', 'Kópháza', 'Koppányszántó', 'Korlát', 'Koroncó', 'Kórós', 'Kosd', 'Kóspallag', 'Kótaj', 'Kovácshida', 'Kovácsszénája', 'Kovácsvágás', 'Kozárd', 'Kozármisleny', 'Kozmadombja', 'Köblény', 'Köcsk', 'Kökény', 'Kőkút', 'Kölcse', 'Kölesd', 'Kölked', 'Kömlő', 'Kömlőd', 'Kömörő', 'Kömpöc', 'Körmend', 'Környe', 'Köröm', 'Kőröshegy', 'Körösladány', 'Körösnagyharsány', 'Körösszakál', 'Körösszegapáti', 'Köröstarcsa', 'Kőröstetétlen', 'Körösújfalu', 'Kőszárhegy', 'Kőszeg', 'Kőszegdoroszló', 'Kőszegpaty', 'Kőszegszerdahely', 'Kötcse', 'Kötegyán', 'Kőtelek', 'Kővágóörs', 'Kővágószőlős', 'Kővágótöttös', 'Kövegy', 'Köveskál', 'Krasznokvajda', 'Kulcs', 'Kunadacs', 'Kunágota', 'Kunbaja', 'Kunbaracs', 'Kuncsorba', 'Kunfehértó', 'Kunhegyes', 'Kunmadaras', 'Kunpeszér', 'Kunszállás', 'Kunszentmárton', 'Kunszentmiklós', 'Kunsziget', 'Kup', 'Kupa', 'Kurd', 'Kurityán', 'Kustánszeg', 'Kutas', 'Kutasó', 'Kübekháza', 'Külsősárd', 'Külsővat', 'Küngös', 'Lábatlan', 'Lábod', 'Lácacséke', 'Lad', 'Ladánybene', 'Ládbesenyő', 'Lajoskomárom', 'Lajosmizse', 'Lak', 'Lakhegy', 'Lakitelek', 'Lakócsa', 'Lánycsók', 'Lápafő', 'Lapáncsa', 'Laskod', 'Lasztonya', 'Látrány', 'Lázi', 'Leányfalu', 'Leányvár', 'Lébény', 'Legénd', 'Legyesbénye', 'Léh', 'Lénárddaróc', 'Lendvadedes', 'Lendvajakabfa', 'Lengyel', 'Lengyeltóti', 'Lenti', 'Lepsény', 'Lesencefalu', 'Lesenceistvánd', 'Lesencetomaj', 'Létavértes', 'Letenye', 'Letkés', 'Levél', 'Levelek', 'Libickozma', 'Lickóvadamos', 'Liget', 'Ligetfalva', 'Lipót', 'Lippó', 'Liptód', 'Lispeszentadorján', 'Liszó', 'Litér', 'Litka', 'Litke', 'Lócs', 'Lókút', 'Lónya', 'Lórév', 'Lothárd', 'Lovas', 'Lovasberény', 'Lovászhetény', 'Lovászi', 'Lovászpatona', 'Lőkösháza', 'Lőrinci', 'Lövő', 'Lövőpetri', 'Lucfalva', 'Ludányhalászi', 'Ludas', 'Lukácsháza', 'Lulla', 'Lúzsok', 'Mád', 'Madaras', 'Madocsa', 'Maglóca', 'Maglód', 'Mágocs', 'Magosliget', 'Magy', 'Magyaralmás', 'Magyaratád', 'Magyarbánhegyes', 'Magyarbóly', 'Magyarcsanád', 'Magyardombegyház', 'Magyaregregy', 'Magyaregres', 'Magyarföld', 'Magyargéc', 'Magyargencs', 'Magyarhertelend', 'Magyarhomorog', 'Magyarkeresztúr', 'Magyarkeszi', 'Magyarlak', 'Magyarlukafa', 'Magyarmecske', 'Magyarnádalja', 'Magyarnándor', 'Magyarpolány', 'Magyarsarlós', 'Magyarszecsőd', 'Magyarszék', 'Magyarszentmiklós', 'Magyarszerdahely', 'Magyarszombatfa', 'Magyartelek', 'Majosháza', 'Majs', 'Makád', 'Makkoshotyka', 'Maklár', 'Makó', 'Malomsok', 'Mályi', 'Mályinka', 'Mánd', 'Mándok', 'Mánfa', 'Mány', 'Maráza', 'Marcalgergelyi', 'Marcali', 'Marcaltő', 'Márfa', 'Máriahalom', 'Máriakálnok', 'Máriakéménd', 'Márianosztra', 'Máriapócs', 'Markaz', 'Márkháza', 'Márkó', 'Markóc', 'Markotabödöge', 'Maróc', 'Marócsa', 'Márok', 'Márokföld', 'Márokpapi', 'Maroslele', 'Mártély', 'Martfű', 'Martonfa', 'Martonvásár', 'Martonyi', 'Mátészalka', 'Mátételke', 'Mátraballa', 'Mátraderecske', 'Mátramindszent', 'Mátranovák', 'Mátraszele', 'Mátraszentimre', 'Mátraszőlős', 'Mátraterenye', 'Mátraverebély', 'Mátyásdomb', 'Matty', 'Mátyus', 'Máza', 'Mecseknádasd', 'Mecsekpölöske', 'Mecsér', 'Medgyesbodzás', 'Medgyesegyháza', 'Medina', 'Megyaszó', 'Megyehíd', 'Megyer', 'Meggyeskovácsi', 'Méhkerék', 'Méhtelek', 'Mekényes', 'Mélykút', 'Mencshely', 'Mende', 'Méra', 'Merenye', 'Mérges', 'Mérk', 'Mernye', 'Mersevát', 'Mesterháza', 'Mesteri', 'Mesterszállás', 'Meszes', 'Meszlen', 'Mesztegnyő', 'Mezőberény', 'Mezőcsát', 'Mezőcsokonya', 'Meződ', 'Mezőfalva', 'Mezőgyán', 'Mezőhegyes', 'Mezőhék', 'Mezőkeresztes', 'Mezőkomárom', 'Mezőkovácsháza', 'Mezőkövesd', 'Mezőladány', 'Mezőlak', 'Mezőnagymihály', 'Mezőnyárád', 'Mezőörs', 'Mezőpeterd', 'Mezősas', 'Mezőszemere', 'Mezőszentgyörgy', 'Mezőszilas', 'Mezőtárkány', 'Mezőtúr', 'Mezőzombor', 'Miháld', 'Mihályfa', 'Mihálygerge', 'Mihályháza', 'Mihályi', 'Mike', 'Mikebuda', 'Mikekarácsonyfa', 'Mikepércs', 'Miklósi', 'Mikófalva', 'Mikóháza', 'Mikosszéplak', 'Milejszeg', 'Milota', 'Mindszent', 'Mindszentgodisa', 'Mindszentkálla', 'Misefa', 'Miske', 'Miskolc', 'Miszla', 'Mocsa', 'Mogyoród', 'Mogyorósbánya', 'Mogyoróska', 'Moha', 'Mohács', 'Mohora', 'Molnári', 'Molnaszecsőd', 'Molvány', 'Monaj', 'Monok', 'Monor', 'Monorierdő', 'Mónosbél', 'Monostorapáti', 'Monostorpályi', 'Monoszló', 'Monyoród', 'Mór', 'Mórágy', 'Mórahalom', 'Móricgát', 'Mórichida', 'Mosdós', 'Mosonmagyaróvár', 'Mosonszentmiklós', 'Mosonszolnok', 'Mosonudvar', 'Mozsgó', 'Mőcsény', 'Mucsfa', 'Mucsi', 'Múcsony', 'Muhi', 'Murakeresztúr', 'Murarátka', 'Muraszemenye', 'Murga', 'Murony', 'Nábrád', 'Nadap', 'Nádasd', 'Nádasdladány', 'Nádudvar', 'Nágocs', 'Nagyacsád', 'Nagyalásony', 'Nagyar', 'Nagyatád', 'Nagybajcs', 'Nagybajom', 'Nagybakónak', 'Nagybánhegyes', 'Nagybaracska', 'Nagybarca', 'Nagybárkány', 'Nagyberény', 'Nagyberki', 'Nagybörzsöny', 'Nagybudmér', 'Nagycenk', 'Nagycsány', 'Nagycsécs', 'Nagycsepely', 'Nagycserkesz', 'Nagydém', 'Nagydobos', 'Nagydobsza', 'Nagydorog', 'Nagyecsed', 'Nagyér', 'Nagyesztergár', 'Nagyfüged', 'Nagygeresd', 'Nagygörbő', 'Nagygyimót', 'Nagyhajmás', 'Nagyhalász', 'Nagyharsány', 'Nagyhegyes', 'Nagyhódos', 'Nagyhuta', 'Nagyigmánd', 'Nagyiván', 'Nagykálló', 'Nagykamarás', 'Nagykanizsa', 'Nagykapornak', 'Nagykarácsony', 'Nagykáta', 'Nagykereki', 'Nagykeresztúr', 'Nagykinizs', 'Nagykónyi', 'Nagykorpád', 'Nagykovácsi', 'Nagykozár', 'Nagykökényes', 'Nagykölked', 'Nagykőrös', 'Nagykörű', 'Nagykutas', 'Nagylak', 'Nagylengyel', 'Nagylóc', 'Nagylók', 'Nagylózs', 'Nagymágocs', 'Nagymányok', 'Nagymaros', 'Nagymizdó', 'Nagynyárád', 'Nagyoroszi', 'Nagypáli', 'Nagypall', 'Nagypeterd', 'Nagypirit', 'Nagyrábé', 'Nagyrada', 'Nagyrákos', 'Nagyrécse', 'Nagyréde', 'Nagyrév', 'Nagyrozvágy', 'Nagysáp', 'Nagysimonyi', 'Nagyszakácsi', 'Nagyszékely', 'Nagyszekeres', 'Nagyszénás', 'Nagyszentjános', 'Nagyszokoly', 'Nagytálya', 'Nagytarcsa', 'Nagytevel', 'Nagytilaj', 'Nagytótfalu', 'Nagytőke', 'Nagyút', 'Nagyvarsány', 'Nagyváty', 'Nagyvázsony', 'Nagyvejke', 'Nagyveleg', 'Nagyvenyim', 'Nagyvisnyó', 'Nak', 'Napkor', 'Nárai', 'Narda', 'Naszály', 'Négyes', 'Nekézseny', 'Nemesapáti', 'Nemesbikk', 'Nemesborzova', 'Nemesbőd', 'Nemesbük', 'Nemescsó', 'Nemesdéd', 'Nemesgörzsöny', 'Nemesgulács', 'Nemeshany', 'Nemeshetés', 'Nemeske', 'Nemeskér', 'Nemeskeresztúr', 'Nemeskisfalud', 'Nemeskocs', 'Nemeskolta', 'Nemesládony', 'Nemesmedves', 'Nemesnádudvar', 'Nemesnép', 'Nemespátró', 'Nemesrádó', 'Nemesrempehollós', 'Nemessándorháza', 'Nemesvámos', 'Nemesvid', 'Nemesvita', 'Nemesszalók', 'Nemesszentandrás', 'Németbánya', 'Németfalu', 'Németkér', 'Nemti', 'Neszmély', 'Nézsa', 'Nick', 'Nikla', 'Nógrád', 'Nógrádkövesd', 'Nógrádmarcal', 'Nógrádmegyer', 'Nógrádsáp', 'Nógrádsipek', 'Nógrádszakál', 'Nóráp', 'Noszlop', 'Noszvaj', 'Nova', 'Novaj', 'Novajidrány', 'Nőtincs', 'Nyalka', 'Nyárád', 'Nyáregyháza', 'Nyárlőrinc', 'Nyársapát', 'Nyékládháza', 'Nyergesújfalu', 'Nyésta', 'Nyim', 'Nyírábrány', 'Nyíracsád', 'Nyirád', 'Nyíradony', 'Nyírbátor', 'Nyírbéltek', 'Nyírbogát', 'Nyírbogdány', 'Nyírcsaholy', 'Nyírcsászári', 'Nyírderzs', 'Nyíregyháza', 'Nyírgelse', 'Nyírgyulaj', 'Nyíri', 'Nyíribrony', 'Nyírjákó', 'Nyírkarász', 'Nyírkáta', 'Nyírkércs', 'Nyírlövő', 'Nyírlugos', 'Nyírmada', 'Nyírmártonfalva', 'Nyírmeggyes', 'Nyírmihálydi', 'Nyírparasznya', 'Nyírpazony', 'Nyírpilis', 'Nyírtass', 'Nyírtelek', 'Nyírtét', 'Nyírtura', 'Nyírvasvári', 'Nyomár', 'Nyőgér', 'Nyugotszenterzsébet', 'Nyúl', 'Óbánya', 'Óbarok', 'Óbudavár', 'Ócsa', 'Ócsárd', 'Ófalu', 'Ófehértó', 'Óföldeák', 'Óhíd', 'Okány', 'Okorág', 'Okorvölgy', 'Olasz', 'Olaszfa', 'Olaszfalu', 'Olaszliszka', 'Olcsva', 'Olcsvaapáti', 'Old', 'Ólmod', 'Oltárc', 'Onga', 'Ónod', 'Ópályi', 'Ópusztaszer', 'Orbányosfa', 'Orci', 'Ordacsehi', 'Ordas', 'Orfalu', 'Orfű', 'Orgovány', 'Ormándlak', 'Ormosbánya', 'Orosháza', 'Oroszi', 'Oroszlány', 'Oroszló', 'Orosztony', 'Ortaháza', 'Osli', 'Ostffyasszonyfa', 'Ostoros', 'Oszkó', 'Oszlár', 'Osztopán', 'Ózd', 'Ózdfalu', 'Ozmánbük', 'Ozora', 'Öcs', 'Őcsény', 'Öcsöd', 'Ököritófülpös', 'Ölbő', 'Ömböly', 'Őr', 'Őrbottyán', 'Öregcsertő', 'Öreglak', 'Őrhalom', 'Őrimagyarósd', 'Őriszentpéter', 'Örkény', 'Örményes', 'Örménykút', 'Őrtilos', 'Örvényes', 'Ősagárd', 'Ősi', 'Öskü', 'Öttevény', 'Öttömös', 'Ötvöskónyi', 'Pácin', 'Pacsa', 'Pácsony', 'Padár', 'Páhi', 'Páka', 'Pakod', 'Pákozd', 'Paks', 'Palé', 'Pálfa', 'Pálfiszeg', 'Pálháza', 'Páli', 'Palkonya', 'Pálmajor', 'Pálmonostora', 'Pálosvörösmart', 'Palotabozsok', 'Palotás', 'Paloznak', 'Pamlény', 'Pamuk', 'Pánd', 'Pankasz', 'Pannonhalma', 'Pányok', 'Panyola', 'Pap', 'Pápa', 'Pápadereske', 'Pápakovácsi', 'Pápasalamon', 'Pápateszér', 'Papkeszi', 'Pápoc', 'Papos', 'Páprád', 'Parád', 'Parádsasvár', 'Parasznya', 'Pári', 'Paszab', 'Pásztó', 'Pásztori', 'Pat', 'Patak', 'Patalom', 'Patapoklosi', 'Patca', 'Pátka', 'Patosfa', 'Pátroha', 'Patvarc', 'Páty', 'Pátyod', 'Pázmánd', 'Pázmándfalu', 'Pécel', 'Pecöl', 'Pécs', 'Pécsbagota', 'Pécsdevecser', 'Pécsely', 'Pécsudvard', 'Pécsvárad', 'Pellérd', 'Pély', 'Penc', 'Penészlek', 'Pénzesgyőr', 'Penyige', 'Pér', 'Perbál', 'Pere', 'Perecse', 'Pereked', 'Perenye', 'Peresznye', 'Pereszteg', 'Perkáta', 'Perkupa', 'Perőcsény', 'Peterd', 'Péterhida', 'Péteri', 'Pétervására', 'Pétfürdő', 'Pethőhenye', 'Petneháza', 'Petőfibánya', 'Petőfiszállás', 'Petőháza', 'Petőmihályfa', 'Petrikeresztúr', 'Petrivente', 'Pettend', 'Piliny', 'Pilis', 'Pilisborosjenő', 'Piliscsaba', 'Piliscsév', 'Pilisjászfalu', 'Pilismarót', 'Pilisvörösvár', 'Pilisszántó', 'Pilisszentiván', 'Pilisszentkereszt', 'Pilisszentlászló', 'Pincehely', 'Pinkamindszent', 'Pinnye', 'Piricse', 'Pirtó', 'Piskó', 'Pitvaros', 'Pócsa', 'Pocsaj', 'Pócsmegyer', 'Pócspetri', 'Pogány', 'Pogányszentpéter', 'Pókaszepetk', 'Polány', 'Polgár', 'Polgárdi', 'Pomáz', 'Porcsalma', 'Pornóapáti', 'Poroszló', 'Porpác', 'Porrog', 'Porrogszentkirály', 'Porrogszentpál', 'Pórszombat', 'Porva', 'Pósfa', 'Potony', 'Potyond', 'Pölöske', 'Pölöskefő', 'Pörböly', 'Pördefölde', 'Pötréte', 'Prügy', 'Pula', 'Pusztaapáti', 'Pusztaberki', 'Pusztacsalád', 'Pusztacsó', 'Pusztadobos', 'Pusztaederics', 'Pusztafalu', 'Pusztaföldvár', 'Pusztahencse', 'Pusztakovácsi', 'Pusztamagyaród', 'Pusztamérges', 'Pusztamiske', 'Pusztamonostor', 'Pusztaottlaka', 'Pusztaradvány', 'Pusztaszabolcs', 'Pusztaszemes', 'Pusztaszentlászló', 'Pusztaszer', 'Pusztavacs', 'Pusztavám', 'Pusztazámor', 'Putnok', 'Püski', 'Püspökhatvan', 'Püspökladány', 'Püspökmolnári', 'Püspökszilágy', 'Rábacsanak', 'Rábacsécsény', 'Rábagyarmat', 'Rábahídvég', 'Rábakecöl', 'Rábapatona', 'Rábapaty', 'Rábapordány', 'Rábasebes', 'Rábaszentandrás', 'Rábaszentmihály', 'Rábaszentmiklós', 'Rábatamási', 'Rábatöttös', 'Rábcakapi', 'Rácalmás', 'Ráckeresztúr', 'Ráckeve', 'Rád', 'Rádfalva', 'Rádóckölked', 'Radostyán', 'Ragály', 'Rajka', 'Rakaca', 'Rakacaszend', 'Rakamaz', 'Rákóczibánya', 'Rákóczifalva', 'Rákócziújfalu', 'Ráksi', 'Ramocsa', 'Ramocsaháza', 'Rápolt', 'Raposka', 'Rásonysápberencs', 'Rátka', 'Rátót', 'Ravazd', 'Recsk', 'Réde', 'Rédics', 'Regéc', 'Regenye', 'Regöly', 'Rém', 'Remeteszőlős', 'Répáshuta', 'Répcelak', 'Répceszemere', 'Répceszentgyörgy', 'Répcevis', 'Resznek', 'Rétalap', 'Rétközberencs', 'Rétság', 'Révfülöp', 'Révleányvár', 'Rezi', 'Ricse', 'Rigács', 'Rigyác', 'Rimóc', 'Rinyabesenyő', 'Rinyakovácsi', 'Rinyaszentkirály', 'Rinyaújlak', 'Rinyaújnép', 'Rohod', 'Románd', 'Romhány', 'Romonya', 'Rózsafa', 'Rozsály', 'Rózsaszentmárton', 'Röjtökmuzsaj', 'Rönök', 'Röszke', 'Rudabánya', 'Rudolftelep', 'Rum', 'Ruzsa', 'Ságújfalu', 'Ságvár', 'Sajóbábony', 'Sajóecseg', 'Sajógalgóc', 'Sajóhídvég', 'Sajóivánka', 'Sajókápolna', 'Sajókaza', 'Sajókeresztúr', 'Sajólád', 'Sajólászlófalva', 'Sajómercse', 'Sajónémeti', 'Sajóörös', 'Sajópálfala', 'Sajópetri', 'Sajópüspöki', 'Sajósenye', 'Sajószentpéter', 'Sajószöged', 'Sajóvámos', 'Sajóvelezd', 'Sajtoskál', 'Salföld', 'Salgótarján', 'Salköveskút', 'Salomvár', 'Sály', 'Sámod', 'Sámsonháza', 'Sand', 'Sándorfalva', 'Sántos', 'Sáp', 'Sáránd', 'Sárazsadány', 'Sárbogárd', 'Sáregres', 'Sárfimizdó', 'Sárhida', 'Sárisáp', 'Sarkad', 'Sarkadkeresztúr', 'Sárkeresztes', 'Sárkeresztúr', 'Sárkeszi', 'Sármellék', 'Sárok', 'Sárosd', 'Sárospatak', 'Sárpilis', 'Sárrétudvari', 'Sarród', 'Sárszentágota', 'Sárszentlőrinc', 'Sárszentmihály', 'Sarud', 'Sárvár', 'Sásd', 'Sáska', 'Sáta', 'Sátoraljaújhely', 'Sátorhely', 'Sávoly', 'Sé', 'Segesd', 'Selyeb', 'Sellye', 'Semjén', 'Semjénháza', 'Sénye', 'Sényő', 'Seregélyes', 'Serényfalva', 'Sérsekszőlős', 'Sikátor', 'Siklós', 'Siklósbodony', 'Siklósnagyfalu', 'Sima', 'Simaság', 'Simonfa', 'Simontornya', 'Sióagárd', 'Siófok', 'Siójut', 'Sirok', 'Sitke', 'Sobor', 'Sokorópátka', 'Solt', 'Soltszentimre', 'Soltvadkert', 'Sóly', 'Solymár', 'Som', 'Somberek', 'Somlójenő', 'Somlószőlős', 'Somlóvásárhely', 'Somlóvecse', 'Somodor', 'Somogyacsa', 'Somogyapáti', 'Somogyaracs', 'Somogyaszaló', 'Somogybabod', 'Somogybükkösd', 'Somogycsicsó', 'Somogydöröcske', 'Somogyegres', 'Somogyfajsz', 'Somogygeszti', 'Somogyhárságy', 'Somogyhatvan', 'Somogyjád', 'Somogymeggyes', 'Somogysámson', 'Somogysárd', 'Somogysimonyi', 'Somogyszentpál', 'Somogyszil', 'Somogyszob', 'Somogytúr', 'Somogyudvarhely', 'Somogyvámos', 'Somogyvár', 'Somogyviszló', 'Somogyzsitfa', 'Somoskőújfalu', 'Sonkád', 'Soponya', 'Sopron', 'Sopronhorpács', 'Sopronkövesd', 'Sopronnémeti', 'Sorkifalud', 'Sorkikápolna', 'Sormás', 'Sorokpolány', 'Sóshartyán', 'Sóskút', 'Sóstófalva', 'Sósvertike', 'Sótony', 'Söjtör', 'Söpte', 'Söréd', 'Sukoró', 'Sumony', 'Súr', 'Surd', 'Sükösd', 'Sülysáp', 'Sümeg', 'Sümegcsehi', 'Sümegprága', 'Süttő', 'Szabadbattyán', 'Szabadegyháza', 'Szabadhídvég', 'Szabadi', 'Szabadkígyós', 'Szabadszállás', 'Szabadszentkirály', 'Szabás', 'Szabolcs', 'Szabolcsbáka', 'Szabolcsveresmart', 'Szada', 'Szágy', 'Szajk', 'Szajla', 'Szajol', 'Szakácsi', 'Szakadát', 'Szakáld', 'Szakály', 'Szakcs', 'Szakmár', 'Szaknyér', 'Szakoly', 'Szakony', 'Szakonyfalu', 'Szákszend', 'Szalafő', 'Szalánta', 'Szalapa', 'Szalaszend', 'Szalatnak', 'Szálka', 'Szalkszentmárton', 'Szalmatercs', 'Szalonna', 'Szamosangyalos', 'Szamosbecs', 'Szamoskér', 'Szamossályi', 'Szamostatárfalva', 'Szamosújlak', 'Szamosszeg', 'Szanda', 'Szank', 'Szántód', 'Szany', 'Szápár', 'Szaporca', 'Szár', 'Szárász', 'Szárazd', 'Szárföld', 'Szárliget', 'Szarvas', 'Szarvasgede', 'Szarvaskend', 'Szarvaskő', 'Szászberek', 'Szászfa', 'Szászvár', 'Szatmárcseke', 'Szátok', 'Szatta', 'Szatymaz', 'Szava', 'Százhalombatta', 'Szebény', 'Szécsénke', 'Szécsény', 'Szécsényfelfalu', 'Szécsisziget', 'Szederkény', 'Szedres', 'Szeged', 'Szegerdő', 'Szeghalom', 'Szegi', 'Szegilong', 'Szegvár', 'Székely', 'Székelyszabar', 'Székesfehérvár', 'Székkutas', 'Szekszárd', 'Szeleste', 'Szelevény', 'Szellő', 'Szemely', 'Szemenye', 'Szemere', 'Szendehely', 'Szendrő', 'Szendrőlád', 'Szenna', 'Szenta', 'Szentantalfa', 'Szentbalázs', 'Szentbékkálla', 'Szentborbás', 'Szentdénes', 'Szentdomonkos', 'Szente', 'Szentegát', 'Szentendre', 'Szentes', 'Szentgál', 'Szentgáloskér', 'Szentgotthárd', 'Szentgyörgyvár', 'Szentgyörgyvölgy', 'Szentimrefalva', 'Szentistván', 'Szentistvánbaksa', 'Szentjakabfa', 'Szentkatalin', 'Szentkirály', 'Szentkirályszabadja', 'Szentkozmadombja', 'Szentlászló', 'Szentliszló', 'Szentlőrinc', 'Szentlőrinckáta', 'Szentmargitfalva', 'Szentmártonkáta', 'Szentpéterfa', 'Szentpéterfölde', 'Szentpéterszeg', 'Szentpéterúr', 'Szenyér', 'Szepetnek', 'Szerecseny', 'Szeremle', 'Szerencs', 'Szerep', 'Szergény', 'Szigetbecse', 'Szigetcsép', 'Szigethalom', 'Szigetmonostor', 'Szigetszentmárton', 'Szigetszentmiklós', 'Szigetújfalu', 'Szigetvár', 'Szigliget', 'Szihalom', 'Szijártóháza', 'Szikszó', 'Szil', 'Szilágy', 'Szilaspogony', 'Szilsárkány', 'Szilvágy', 'Szilvás', 'Szilvásvárad', 'Szilvásszentmárton', 'Szin', 'Szinpetri', 'Szirák', 'Szirmabesenyő', 'Szob', 'Szokolya', 'Szólád', 'Szolnok', 'Szombathely', 'Szomód', 'Szomolya', 'Szomor', 'Szorgalmatos', 'Szorosad', 'Szőc', 'Szőce', 'Sződ', 'Sződliget', 'Szögliget', 'Szőke', 'Szőkéd', 'Szőkedencs', 'Szőlősardó', 'Szőlősgyörök', 'Szörény', 'Szúcs', 'Szuha', 'Szuhafő', 'Szuhakálló', 'Szuhogy', 'Szulimán', 'Szulok', 'Szurdokpüspöki', 'Szűcsi', 'Szügy', 'Szűr', 'Tab', 'Tabajd', 'Tabdi', 'Táborfalva', 'Tác', 'Tagyon', 'Tahitótfalu', 'Takácsi', 'Tákos', 'Taksony', 'Taktabáj', 'Taktaharkány', 'Taktakenéz', 'Taktaszada', 'Taliándörögd', 'Tállya', 'Tamási', 'Tanakajd', 'Táp', 'Tápióbicske', 'Tápiógyörgye', 'Tápióság', 'Tápiószecső', 'Tápiószele', 'Tápiószentmárton', 'Tápiószőlős', 'Táplánszentkereszt', 'Tapolca', 'Tapsony', 'Tápszentmiklós', 'Tar', 'Tarany', 'Tarcal', 'Tard', 'Tardona', 'Tardos', 'Tarhos', 'Tarján', 'Tarjánpuszta', 'Tárkány', 'Tarnabod', 'Tarnalelesz', 'Tarnaméra', 'Tarnaörs', 'Tarnaszentmária', 'Tarnaszentmiklós', 'Tarnazsadány', 'Tárnok', 'Tárnokréti', 'Tarpa', 'Tarrós', 'Táska', 'Tass', 'Taszár', 'Tát', 'Tata', 'Tatabánya', 'Tataháza', 'Tatárszentgyörgy', 'Tázlár', 'Téglás', 'Tekenye', 'Tékes', 'Teklafalu', 'Telekes', 'Telekgerendás', 'Teleki', 'Telki', 'Telkibánya', 'Tengelic', 'Tengeri', 'Tengőd', 'Tenk', 'Tényő', 'Tépe', 'Terem', 'Terény', 'Tereske', 'Teresztenye', 'Terpes', 'Tés', 'Tésa', 'Tésenfa', 'Téseny', 'Teskánd', 'Tét', 'Tetétlen', 'Tevel', 'Tibolddaróc', 'Tiborszállás', 'Tihany', 'Tikos', 'Tilaj', 'Timár', 'Tinnye', 'Tiszaadony', 'Tiszaalpár', 'Tiszabábolna', 'Tiszabecs', 'Tiszabercel', 'Tiszabezdéd', 'Tiszabő', 'Tiszabura', 'Tiszacsécse', 'Tiszacsege', 'Tiszacsermely', 'Tiszadada', 'Tiszaderzs', 'Tiszadob', 'Tiszadorogma', 'Tiszaeszlár', 'Tiszaföldvár', 'Tiszafüred', 'Tiszagyenda', 'Tiszagyulaháza', 'Tiszaigar', 'Tiszainoka', 'Tiszajenő', 'Tiszakanyár', 'Tiszakarád', 'Tiszakécske', 'Tiszakerecseny', 'Tiszakeszi', 'Tiszakóród', 'Tiszakürt', 'Tiszaladány', 'Tiszalök', 'Tiszalúc', 'Tiszamogyorós', 'Tiszanagyfalu', 'Tiszanána', 'Tiszaörs', 'Tiszapalkonya', 'Tiszapüspöki', 'Tiszarád', 'Tiszaroff', 'Tiszasas', 'Tiszasüly', 'Tiszaszalka', 'Tiszaszentimre', 'Tiszaszentmárton', 'Tiszasziget', 'Tiszaszőlős', 'Tiszatardos', 'Tiszatarján', 'Tiszatelek', 'Tiszatenyő', 'Tiszaug', 'Tiszaújváros', 'Tiszavalk', 'Tiszavárkony', 'Tiszavasvári', 'Tiszavid', 'Tisztaberek', 'Tivadar', 'Tóalmás', 'Tófalu', 'Tófej', 'Tófű', 'Tokaj', 'Tokod', 'Tokodaltáró', 'Tokorcs', 'Tolcsva', 'Told', 'Tolmács', 'Tolna', 'Tolnanémedi', 'Tomajmonostora', 'Tomor', 'Tompa', 'Tompaládony', 'Tordas', 'Tormafölde', 'Tormás', 'Tormásliget', 'Tornabarakony', 'Tornakápolna', 'Tornanádaska', 'Tornaszentandrás', 'Tornaszentjakab', 'Tornyiszentmiklós', 'Tornyosnémeti', 'Tornyospálca', 'Torony', 'Torvaj', 'Tószeg', 'Tótkomlós', 'Tótszentgyörgy', 'Tótszentmárton', 'Tótszerdahely', 'Tótújfalu', 'Tótvázsony', 'Tök', 'Tököl', 'Töltéstava', 'Tömörd', 'Tömörkény', 'Törökbálint', 'Törökkoppány', 'Törökszentmiklós', 'Törtel', 'Töttös', 'Trizs', 'Tunyogmatolcs', 'Tura', 'Túristvándi', 'Túrkeve', 'Túrony', 'Túrricse', 'Tuzsér', 'Türje', 'Tüskevár', 'Tyukod', 'Udvar', 'Udvari', 'Ugod', 'Újbarok', 'Újcsanálos', 'Újdombrád', 'Újfehértó', 'Újhartyán', 'Újiráz', 'Újireg', 'Újkenéz', 'Újkér', 'Újkígyós', 'Újlengyel', 'Újléta', 'Újlőrincfalva', 'Újpetre', 'Újrónafő', 'Újsolt', 'Újszalonta', 'Újszász', 'Újszentiván', 'Újszentmargita', 'Újszilvás', 'Újtelek', 'Újtikos', 'Újudvar', 'Újvárfalva', 'Ukk', 'Und', 'Úny', 'Uppony', 'Ura', 'Uraiújfalu', 'Úrhida', 'Úri', 'Úrkút', 'Uszka', 'Uszód', 'Uzsa', 'Üllés', 'Üllő', 'Üröm', 'Vác', 'Vácduka', 'Vácegres', 'Váchartyán', 'Váckisújfalu', 'Vácrátót', 'Vácszentlászló', 'Vadna', 'Vadosfa', 'Vág', 'Vágáshuta', 'Vaja', 'Vajdácska', 'Vajszló', 'Vajta', 'Vál', 'Valkó', 'Valkonya', 'Vállaj', 'Vállus', 'Vámosatya', 'Vámoscsalád', 'Vámosgyörk', 'Vámosmikola', 'Vámosoroszi', 'Vámospércs', 'Vámosújfalu', 'Vámosszabadi', 'Váncsod', 'Vanyarc', 'Vanyola', 'Várad', 'Váralja', 'Varászló', 'Váraszó', 'Várbalog', 'Varbó', 'Varbóc', 'Várda', 'Várdomb', 'Várfölde', 'Varga', 'Várgesztes', 'Várkesző', 'Várong', 'Városföld', 'Városlőd', 'Várpalota', 'Varsád', 'Varsány', 'Várvölgy', 'Vasad', 'Vasalja', 'Vásárosbéc', 'Vásárosdombó', 'Vásárosfalu', 'Vásárosmiske', 'Vásárosnamény', 'Vasasszonyfa', 'Vasboldogasszony', 'Vasegerszeg', 'Vashosszúfalu', 'Vaskeresztes', 'Vaskút', 'Vasmegyer', 'Vaspör', 'Vassurány', 'Vasvár', 'Vaszar', 'Vászoly', 'Vasszécseny', 'Vasszentmihály', 'Vasszilvágy', 'Vát', 'Vatta', 'Vázsnok', 'Vécs', 'Vecsés', 'Végegyháza', 'Vejti', 'Vékény', 'Vekerd', 'Velem', 'Velemér', 'Velence', 'Velény', 'Véménd', 'Vének', 'Vép', 'Vereb', 'Veresegyház', 'Verőce', 'Verpelét', 'Verseg', 'Versend', 'Vértesacsa', 'Vértesboglár', 'Vérteskethely', 'Vértessomló', 'Vértesszőlős', 'Vértestolna', 'Vése', 'Veszkény', 'Veszprém', 'Veszprémfajsz', 'Veszprémgalsa', 'Veszprémvarsány', 'Vésztő', 'Vezseny', 'Vid', 'Vigántpetend', 'Villány', 'Villánykövesd', 'Vilmány', 'Vilonya', 'Vilyvitány', 'Vinár', 'Vindornyafok', 'Vindornyalak', 'Vindornyaszőlős', 'Visegrád', 'Visnye', 'Visonta', 'Viss', 'Visz', 'Viszák', 'Viszló', 'Visznek', 'Vitnyéd', 'Vízvár', 'Vizslás', 'Vizsoly', 'Vokány', 'Vonyarcvashegy', 'Vöckönd', 'Völcsej', 'Vönöck', 'Vöröstó', 'Vörs', 'Zabar', 'Zádor', 'Zádorfalva', 'Zagyvarékas', 'Zagyvaszántó', 'Záhony', 'Zajk', 'Zajta', 'Zákány', 'Zákányfalu', 'Zákányszék', 'Zala', 'Zalaapáti', 'Zalabaksa', 'Zalabér', 'Zalaboldogfa', 'Zalacsány', 'Zalacséb', 'Zalaegerszeg', 'Zalaerdőd', 'Zalagyömörő', 'Zalahaláp', 'Zalaháshágy', 'Zalaigrice', 'Zalaistvánd', 'Zalakaros', 'Zalakomár', 'Zalaköveskút', 'Zalalövő', 'Zalameggyes', 'Zalamerenye', 'Zalasárszeg', 'Zalaszabar', 'Zalaszántó', 'Zalaszegvár', 'Zalaszentbalázs', 'Zalaszentgrót', 'Zalaszentgyörgy', 'Zalaszentiván', 'Zalaszentjakab', 'Zalaszentlászló', 'Zalaszentlőrinc', 'Zalaszentmárton', 'Zalaszentmihály', 'Zalaszombatfa', 'Zaláta', 'Zalatárnok', 'Zalaújlak', 'Zalavár', 'Zalavég', 'Zalkod', 'Zamárdi', 'Zámoly', 'Zánka', 'Zaránk', 'Závod', 'Zebecke', 'Zebegény', 'Zemplénagárd', 'Zengővárkony', 'Zichyújfalu', 'Zics', 'Ziliz', 'Zimány', 'Zirc', 'Zók', 'Zomba', 'Zubogy', 'Zsadány', 'Zsáka', 'Zsámbék', 'Zsámbok', 'Zsana', 'Zsarolyán', 'Zsebeháza', 'Zsédeny', 'Zselickisfalud', 'Zselickislak', 'Zselicszentpál', 'Zsennye', 'Zsira', 'Zsombó', 'Zsujta', 'Zsurk'] \n",
      "Longest: 20 \n",
      "Average 10.0\n"
     ]
    }
   ],
   "source": [
    "with open('faluneveklistaja.txt', 'r') as file:\n",
    "    city_names = file.readlines()\n",
    "\n",
    "city_names = [line.strip() for line in city_names]\n",
    "\n",
    "longest = 0\n",
    "for i in range(len(city_names)):\n",
    "    if len(city_names[i]) > longest:\n",
    "        longest = len(city_names[i])\n",
    "\n",
    "sum = 0\n",
    "for i in range(len(city_names)):\n",
    "    sum = sum + len(city_names[1])\n",
    "\n",
    "print(city_names,\"\\nLongest:\",longest,\"\\nAverage\",sum/len(city_names))"
   ]
  },
  {
   "attachments": {},
   "cell_type": "markdown",
   "metadata": {},
   "source": [
    "### Pre-Processing"
   ]
  },
  {
   "cell_type": "code",
   "execution_count": 8,
   "metadata": {},
   "outputs": [],
   "source": [
    "# Step 1: Clean the data and convert to lowercase\n",
    "city_names = [name.lower() for name in city_names]\n",
    "\n",
    "# Step 2: Split city names into characters and create input-output pairs\n",
    "input_sequences = []\n",
    "output_sequences = []\n",
    "\n",
    "max_sequence_length = 10  # Example: Using input sequences of length 3\n",
    "\n",
    "for name in city_names:\n",
    "    #name = ' ' + name + ' '  # Add spaces at the beginning and end of the name\n",
    "    \n",
    "    # Using fixed maximum lenghts\n",
    "    for i in range(len(name) - max_sequence_length):\n",
    "        input_sequences.append(name[i:i+max_sequence_length])\n",
    "        output_sequences.append(name[i+max_sequence_length])\n",
    "\n",
    "    # Using variable lenghts\n",
    "    #for i in range(len(name) - 1):\n",
    "    #    input_sequences.append(name[:i+1])\n",
    "    #    output_sequences.append(name[i+1])\n",
    "\n",
    "# Print the input-output pairs\n",
    "#for i in range(len(input_sequences)):\n",
    "#    print('Input:', input_sequences[i], 'Output:', output_sequences[i])\n"
   ]
  },
  {
   "attachments": {},
   "cell_type": "markdown",
   "metadata": {},
   "source": [
    "### One-Hot Encoding"
   ]
  },
  {
   "cell_type": "code",
   "execution_count": 9,
   "metadata": {},
   "outputs": [],
   "source": [
    "import numpy as np\n",
    "\n",
    "# Step 3: Vectorization\n",
    "characters = sorted(list(set(''.join(city_names))))  # Get unique characters and sort them\n",
    "char_to_index = {char: index for index, char in enumerate(characters)}\n",
    "\n",
    "num_chars = len(characters)\n",
    "\n",
    "# Convert input sequences to one-hot encoded vectors\n",
    "X = np.zeros((len(input_sequences), max_sequence_length, num_chars), dtype=np.float32)\n",
    "for i, sequence in enumerate(input_sequences):\n",
    "    for t, char in enumerate(sequence):\n",
    "        X[i, t, char_to_index[char]] = 1.0\n",
    "\n",
    "# Convert output sequences to numerical labels\n",
    "y = np.zeros((len(output_sequences), num_chars), dtype=np.float32)\n",
    "for i, char in enumerate(output_sequences):\n",
    "    y[i, char_to_index[char]] = 1.0\n",
    "\n",
    "# Print the vectorized input-output pairs\n",
    "#for i in range(len(input_sequences)):\n",
    "#    print('Input:', X[i], 'Output:', y[i])\n"
   ]
  },
  {
   "attachments": {},
   "cell_type": "markdown",
   "metadata": {},
   "source": [
    "### Model Architecture"
   ]
  },
  {
   "cell_type": "code",
   "execution_count": 10,
   "metadata": {},
   "outputs": [
    {
     "name": "stdout",
     "output_type": "stream",
     "text": [
      "Model: \"sequential_1\"\n",
      "_________________________________________________________________\n",
      " Layer (type)                Output Shape              Param #   \n",
      "=================================================================\n",
      " lstm_1 (LSTM)               (None, 128)               82432     \n",
      "                                                                 \n",
      " dense_1 (Dense)             (None, 32)                4128      \n",
      "                                                                 \n",
      "=================================================================\n",
      "Total params: 86560 (338.12 KB)\n",
      "Trainable params: 86560 (338.12 KB)\n",
      "Non-trainable params: 0 (0.00 Byte)\n",
      "_________________________________________________________________\n"
     ]
    }
   ],
   "source": [
    "import tensorflow as tf\n",
    "from tensorflow.keras.models import Sequential\n",
    "from tensorflow.keras.layers import LSTM, Dense\n",
    "\n",
    "# Step 4: Model Architecture\n",
    "model = Sequential()\n",
    "model.add(LSTM(units=128, input_shape=(max_sequence_length, num_chars)))\n",
    "model.add(Dense(units=num_chars, activation='softmax'))\n",
    "\n",
    "model.compile(loss='categorical_crossentropy', optimizer='adam')\n",
    "\n",
    "# Print the model summary\n",
    "model.summary()\n"
   ]
  },
  {
   "attachments": {},
   "cell_type": "markdown",
   "metadata": {},
   "source": [
    "### Model Training"
   ]
  },
  {
   "cell_type": "code",
   "execution_count": 70,
   "metadata": {},
   "outputs": [
    {
     "name": "stdout",
     "output_type": "stream",
     "text": [
      "Epoch 1/50\n",
      "16/16 [==============================] - 0s 14ms/step - loss: 0.0151 - val_loss: 4.3839\n",
      "Epoch 2/50\n",
      "16/16 [==============================] - 0s 12ms/step - loss: 0.0149 - val_loss: 4.3758\n",
      "Epoch 3/50\n",
      "16/16 [==============================] - 0s 12ms/step - loss: 0.0151 - val_loss: 4.3781\n",
      "Epoch 4/50\n",
      "16/16 [==============================] - 0s 11ms/step - loss: 0.0151 - val_loss: 4.3802\n",
      "Epoch 5/50\n",
      "16/16 [==============================] - 0s 10ms/step - loss: 0.0152 - val_loss: 4.3865\n",
      "Epoch 6/50\n",
      "16/16 [==============================] - 0s 10ms/step - loss: 0.0152 - val_loss: 4.3744\n",
      "Epoch 7/50\n",
      "16/16 [==============================] - 0s 11ms/step - loss: 0.0154 - val_loss: 4.3859\n",
      "Epoch 8/50\n",
      "16/16 [==============================] - 0s 10ms/step - loss: 0.0153 - val_loss: 4.3937\n",
      "Epoch 9/50\n",
      "16/16 [==============================] - 0s 10ms/step - loss: 0.0151 - val_loss: 4.3921\n",
      "Epoch 10/50\n",
      "16/16 [==============================] - 0s 10ms/step - loss: 0.0153 - val_loss: 4.3929\n",
      "Epoch 11/50\n",
      "16/16 [==============================] - 0s 11ms/step - loss: 0.0152 - val_loss: 4.3856\n",
      "Epoch 12/50\n",
      "16/16 [==============================] - 0s 11ms/step - loss: 0.0154 - val_loss: 4.3953\n",
      "Epoch 13/50\n",
      "16/16 [==============================] - 0s 11ms/step - loss: 0.0150 - val_loss: 4.3911\n",
      "Epoch 14/50\n",
      "16/16 [==============================] - 0s 11ms/step - loss: 0.0152 - val_loss: 4.3976\n",
      "Epoch 15/50\n",
      "16/16 [==============================] - 0s 11ms/step - loss: 0.0152 - val_loss: 4.4040\n",
      "Epoch 16/50\n",
      "16/16 [==============================] - 0s 11ms/step - loss: 0.0152 - val_loss: 4.3978\n",
      "Epoch 17/50\n",
      "16/16 [==============================] - 0s 10ms/step - loss: 0.0151 - val_loss: 4.3981\n",
      "Epoch 18/50\n",
      "16/16 [==============================] - 0s 11ms/step - loss: 0.0151 - val_loss: 4.4036\n",
      "Epoch 19/50\n",
      "16/16 [==============================] - 0s 10ms/step - loss: 0.0152 - val_loss: 4.3978\n",
      "Epoch 20/50\n",
      "16/16 [==============================] - 0s 10ms/step - loss: 0.0152 - val_loss: 4.4076\n",
      "Epoch 21/50\n",
      "16/16 [==============================] - 0s 11ms/step - loss: 0.0153 - val_loss: 4.4065\n",
      "Epoch 22/50\n",
      "16/16 [==============================] - 0s 12ms/step - loss: 0.0151 - val_loss: 4.4030\n",
      "Epoch 23/50\n",
      "16/16 [==============================] - 0s 11ms/step - loss: 0.0151 - val_loss: 4.4064\n",
      "Epoch 24/50\n",
      "16/16 [==============================] - 0s 11ms/step - loss: 0.0151 - val_loss: 4.4032\n",
      "Epoch 25/50\n",
      "16/16 [==============================] - 0s 11ms/step - loss: 0.0153 - val_loss: 4.4080\n",
      "Epoch 26/50\n",
      "16/16 [==============================] - 0s 11ms/step - loss: 0.0151 - val_loss: 4.4158\n",
      "Epoch 27/50\n",
      "16/16 [==============================] - 0s 12ms/step - loss: 0.0152 - val_loss: 4.4128\n",
      "Epoch 28/50\n",
      "16/16 [==============================] - 0s 12ms/step - loss: 0.0152 - val_loss: 4.4123\n",
      "Epoch 29/50\n",
      "16/16 [==============================] - 0s 11ms/step - loss: 0.0154 - val_loss: 4.4178\n",
      "Epoch 30/50\n",
      "16/16 [==============================] - 0s 11ms/step - loss: 0.0151 - val_loss: 4.4124\n",
      "Epoch 31/50\n",
      "16/16 [==============================] - 0s 11ms/step - loss: 0.0154 - val_loss: 4.4159\n",
      "Epoch 32/50\n",
      "16/16 [==============================] - 0s 11ms/step - loss: 0.0150 - val_loss: 4.4153\n",
      "Epoch 33/50\n",
      "16/16 [==============================] - 0s 11ms/step - loss: 0.0154 - val_loss: 4.4273\n",
      "Epoch 34/50\n",
      "16/16 [==============================] - 0s 12ms/step - loss: 0.0152 - val_loss: 4.4191\n",
      "Epoch 35/50\n",
      "16/16 [==============================] - 0s 12ms/step - loss: 0.0152 - val_loss: 4.4170\n",
      "Epoch 36/50\n",
      "16/16 [==============================] - 0s 12ms/step - loss: 0.0152 - val_loss: 4.4234\n",
      "Epoch 37/50\n",
      "16/16 [==============================] - 0s 11ms/step - loss: 0.0151 - val_loss: 4.4294\n",
      "Epoch 38/50\n",
      "16/16 [==============================] - 0s 11ms/step - loss: 0.0151 - val_loss: 4.4268\n",
      "Epoch 39/50\n",
      "16/16 [==============================] - 0s 11ms/step - loss: 0.0152 - val_loss: 4.4314\n",
      "Epoch 40/50\n",
      "16/16 [==============================] - 0s 11ms/step - loss: 0.0149 - val_loss: 4.4360\n",
      "Epoch 41/50\n",
      "16/16 [==============================] - 0s 11ms/step - loss: 0.0152 - val_loss: 4.4392\n",
      "Epoch 42/50\n",
      "16/16 [==============================] - 0s 12ms/step - loss: 0.0152 - val_loss: 4.4266\n",
      "Epoch 43/50\n",
      "16/16 [==============================] - 0s 12ms/step - loss: 0.0150 - val_loss: 4.4238\n",
      "Epoch 44/50\n",
      "16/16 [==============================] - 0s 11ms/step - loss: 0.0152 - val_loss: 4.4404\n",
      "Epoch 45/50\n",
      "16/16 [==============================] - 0s 11ms/step - loss: 0.0152 - val_loss: 4.4298\n",
      "Epoch 46/50\n",
      "16/16 [==============================] - 0s 11ms/step - loss: 0.0153 - val_loss: 4.4356\n",
      "Epoch 47/50\n",
      "16/16 [==============================] - 0s 11ms/step - loss: 0.0151 - val_loss: 4.4321\n",
      "Epoch 48/50\n",
      "16/16 [==============================] - 0s 11ms/step - loss: 0.0150 - val_loss: 4.4440\n",
      "Epoch 49/50\n",
      "16/16 [==============================] - 0s 11ms/step - loss: 0.0153 - val_loss: 4.4406\n",
      "Epoch 50/50\n",
      "16/16 [==============================] - 0s 10ms/step - loss: 0.0153 - val_loss: 4.4387\n"
     ]
    },
    {
     "data": {
      "text/plain": [
       "<keras.src.callbacks.History at 0x29e68ab50>"
      ]
     },
     "execution_count": 70,
     "metadata": {},
     "output_type": "execute_result"
    }
   ],
   "source": [
    "# Step 5: Model Training\n",
    "batch_size = 120\n",
    "epochs = 50 # Sets iteration\n",
    "\n",
    "model.fit(X, y, batch_size=batch_size, epochs=epochs, validation_split=0.2)"
   ]
  },
  {
   "attachments": {},
   "cell_type": "markdown",
   "metadata": {},
   "source": [
    "### Model Genetarion using Random Probability"
   ]
  },
  {
   "cell_type": "code",
   "execution_count": 12,
   "metadata": {},
   "outputs": [
    {
     "name": "stdout",
     "output_type": "stream",
     "text": [
      "1/1 [==============================] - 0s 141ms/step\n",
      "1/1 [==============================] - 0s 9ms/step\n",
      "1/1 [==============================] - 0s 9ms/step\n",
      "1/1 [==============================] - 0s 8ms/step\n",
      "1/1 [==============================] - 0s 9ms/step\n",
      "1/1 [==============================] - 0s 8ms/step\n",
      "1/1 [==============================] - 0s 8ms/step\n",
      "1/1 [==============================] - 0s 9ms/step\n",
      "1/1 [==============================] - 0s 8ms/step\n",
      "Generated Name: kuayleereel\n"
     ]
    }
   ],
   "source": [
    "import random\n",
    "\n",
    "# Step 6: Model Generation\n",
    "seed_sequence = 'ku'  # Seed sequence for generating new city names\n",
    "generated_name_length = max_sequence_length-len(seed_sequence)+1  # Length of the generated city name\n",
    "\n",
    "# Generate characters one by one\n",
    "generated_name = seed_sequence\n",
    "for _ in range(generated_name_length):\n",
    "    x_pred = np.zeros((1, max_sequence_length, num_chars))\n",
    "    for t, char in enumerate(generated_name):\n",
    "        if char in char_to_index:\n",
    "            # print(char, \"and\", char_to_index[char])\n",
    "            x_pred[0, t, char_to_index[char]] = 1.0\n",
    "\n",
    "    # Predict the next character probabilities\n",
    "    predictions = model.predict(x_pred)[0]\n",
    "    predicted_index = np.random.choice(range(num_chars), p=predictions)\n",
    "\n",
    "    # Convert the predicted index back to a character\n",
    "    predicted_char = characters[predicted_index]\n",
    "\n",
    "    # Append the predicted character to the generated name\n",
    "    generated_name += predicted_char\n",
    "\n",
    "print(\"Generated Name:\", generated_name)\n"
   ]
  },
  {
   "attachments": {},
   "cell_type": "markdown",
   "metadata": {},
   "source": [
    "### Model Genetarion using Levenshtein Distance"
   ]
  },
  {
   "cell_type": "code",
   "execution_count": 78,
   "metadata": {},
   "outputs": [
    {
     "name": "stdout",
     "output_type": "stream",
     "text": [
      "Generated Name: ágyoraádiy, Average Levenshtein Distance: 9.502219403931516\n",
      "Generated Name: ágyyarószn, Average Levenshtein Distance: 9.591946734305644\n",
      "Generated Name: ágyoromori, Average Levenshtein Distance: 9.776474318325935\n",
      "Generated Name: ágyoromori, Average Levenshtein Distance: 9.776474318325935\n",
      "Generated Name: ágyfaludon, Average Levenshtein Distance: 9.755548509828788\n",
      "Generated Name: ágyorófalv, Average Levenshtein Distance: 9.713379835129993\n",
      "Generated Name: ágyyaróány, Average Levenshtein Distance: 9.487951807228916\n",
      "Generated Name: ágyházarás, Average Levenshtein Distance: 9.46861128725428\n",
      "Generated Name: ágyházaádi, Average Levenshtein Distance: 9.642675967026\n",
      "Generated Name: ágyoromori, Average Levenshtein Distance: 9.776474318325935\n",
      "Generated Name: ágyoromoki, Average Levenshtein Distance: 9.78408370323399\n",
      "Generated Name: ágyorojoki, Average Levenshtein Distance: 9.830691185795814\n",
      "Generated Name: ágyházamás, Average Levenshtein Distance: 9.582117945466075\n",
      "Generated Name: ágyoszontp, Average Levenshtein Distance: 9.478123018389347\n",
      "Generated Name: ágyorjánye, Average Levenshtein Distance: 9.49143944197844\n",
      "Generated Name: ágyoroázii, Average Levenshtein Distance: 9.726379201014584\n",
      "Generated Name: ágyorojoii, Average Levenshtein Distance: 9.916613823715917\n",
      "Generated Name: ágyoromori, Average Levenshtein Distance: 9.776474318325935\n",
      "Generated Name: ágyeresztú, Average Levenshtein Distance: 9.493341788205454\n",
      "Generated Name: ágyorajány, Average Levenshtein Distance: 9.400443880786304\n"
     ]
    }
   ],
   "source": [
    "import random\n",
    "from Levenshtein import distance\n",
    "\n",
    "# Step 6: Model Generation\n",
    "seed_sequence = 'ág'  # Seed sequence for generating new city names\n",
    "generated_name_length = 10  # Length of the generated city name\n",
    "num_generated_names = 20  # Number of generated names\n",
    "\n",
    "generated_names = []\n",
    "\n",
    "for _ in range(num_generated_names):\n",
    "    generated_name = seed_sequence\n",
    "    while len(generated_name) < generated_name_length:\n",
    "        x_pred = np.zeros((1, len(generated_name), num_chars))\n",
    "        for t, char in enumerate(generated_name):\n",
    "            x_pred[0, t, char_to_index[char]] = 1.0\n",
    "\n",
    "        predictions = model.predict(x_pred, verbose=0)[0]\n",
    "        predicted_index = np.random.choice(range(num_chars), p=predictions)\n",
    "        predicted_char = characters[predicted_index]\n",
    "\n",
    "        generated_name += predicted_char\n",
    "\n",
    "    generated_names.append(generated_name)\n",
    "\n",
    "# Evaluate generated city names\n",
    "reference_names = city_names\n",
    "\n",
    "for generated_name in generated_names:\n",
    "    distances = [distance(generated_name, reference_name) for reference_name in reference_names]\n",
    "    average_distance = np.mean(distances)\n",
    "    print(f\"Generated Name: {generated_name}, Average Levenshtein Distance: {average_distance}\")\n"
   ]
  }
 ],
 "metadata": {
  "kernelspec": {
   "display_name": "Python 3",
   "language": "python",
   "name": "python3"
  },
  "language_info": {
   "codemirror_mode": {
    "name": "ipython",
    "version": 3
   },
   "file_extension": ".py",
   "mimetype": "text/x-python",
   "name": "python",
   "nbconvert_exporter": "python",
   "pygments_lexer": "ipython3",
   "version": "3.11.3"
  },
  "orig_nbformat": 4
 },
 "nbformat": 4,
 "nbformat_minor": 2
}
